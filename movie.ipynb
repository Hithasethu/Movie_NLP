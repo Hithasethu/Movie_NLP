{
 "cells": [
  {
   "cell_type": "code",
   "execution_count": 2,
   "id": "1ec93d3f",
   "metadata": {},
   "outputs": [],
   "source": [
    "import numpy as np \n",
    "import pandas as pd\n",
    "import matplotlib.pyplot as plt\n",
    "import seaborn as sns\n",
    "import nltk\n",
    "import re\n"
   ]
  },
  {
   "cell_type": "code",
   "execution_count": 3,
   "id": "b15d6020",
   "metadata": {},
   "outputs": [
    {
     "data": {
      "text/html": [
       "<div>\n",
       "<style scoped>\n",
       "    .dataframe tbody tr th:only-of-type {\n",
       "        vertical-align: middle;\n",
       "    }\n",
       "\n",
       "    .dataframe tbody tr th {\n",
       "        vertical-align: top;\n",
       "    }\n",
       "\n",
       "    .dataframe thead th {\n",
       "        text-align: right;\n",
       "    }\n",
       "</style>\n",
       "<table border=\"1\" class=\"dataframe\">\n",
       "  <thead>\n",
       "    <tr style=\"text-align: right;\">\n",
       "      <th></th>\n",
       "      <th>id</th>\n",
       "      <th>movie_name</th>\n",
       "      <th>synopsis</th>\n",
       "      <th>genre</th>\n",
       "    </tr>\n",
       "  </thead>\n",
       "  <tbody>\n",
       "    <tr>\n",
       "      <th>0</th>\n",
       "      <td>44978</td>\n",
       "      <td>Super Me</td>\n",
       "      <td>A young scriptwriter starts bringing valuable ...</td>\n",
       "      <td>fantasy</td>\n",
       "    </tr>\n",
       "    <tr>\n",
       "      <th>1</th>\n",
       "      <td>50185</td>\n",
       "      <td>Entity Project</td>\n",
       "      <td>A director and her friends renting a haunted h...</td>\n",
       "      <td>horror</td>\n",
       "    </tr>\n",
       "    <tr>\n",
       "      <th>2</th>\n",
       "      <td>34131</td>\n",
       "      <td>Behavioral Family Therapy for Serious Psychiat...</td>\n",
       "      <td>This is an educational video for families and ...</td>\n",
       "      <td>family</td>\n",
       "    </tr>\n",
       "    <tr>\n",
       "      <th>3</th>\n",
       "      <td>78522</td>\n",
       "      <td>Blood Glacier</td>\n",
       "      <td>Scientists working in the Austrian Alps discov...</td>\n",
       "      <td>scifi</td>\n",
       "    </tr>\n",
       "    <tr>\n",
       "      <th>4</th>\n",
       "      <td>2206</td>\n",
       "      <td>Apat na anino</td>\n",
       "      <td>Buy Day - Four Men Widely - Apart in Life - By...</td>\n",
       "      <td>action</td>\n",
       "    </tr>\n",
       "    <tr>\n",
       "      <th>...</th>\n",
       "      <td>...</td>\n",
       "      <td>...</td>\n",
       "      <td>...</td>\n",
       "      <td>...</td>\n",
       "    </tr>\n",
       "    <tr>\n",
       "      <th>53995</th>\n",
       "      <td>80325</td>\n",
       "      <td>Untitled Monkeyshine/Ugly Brother Project</td>\n",
       "      <td>Two loser pest control buddies find themselves...</td>\n",
       "      <td>scifi</td>\n",
       "    </tr>\n",
       "    <tr>\n",
       "      <th>53996</th>\n",
       "      <td>84712</td>\n",
       "      <td>The Great Swindle</td>\n",
       "      <td>A seductive woman gets involved in relationshi...</td>\n",
       "      <td>thriller</td>\n",
       "    </tr>\n",
       "    <tr>\n",
       "      <th>53997</th>\n",
       "      <td>69801</td>\n",
       "      <td>When Men Get Pregnant</td>\n",
       "      <td>Duyen, a wedding dress staff, who decides to c...</td>\n",
       "      <td>romance</td>\n",
       "    </tr>\n",
       "    <tr>\n",
       "      <th>53998</th>\n",
       "      <td>7678</td>\n",
       "      <td>Suttu Pidikka Utharavu</td>\n",
       "      <td>The people of a crowded colony in Coimbatore c...</td>\n",
       "      <td>action</td>\n",
       "    </tr>\n",
       "    <tr>\n",
       "      <th>53999</th>\n",
       "      <td>33970</td>\n",
       "      <td>Margo the Mouse</td>\n",
       "      <td>Margo is a little mouse that lives quietly in ...</td>\n",
       "      <td>family</td>\n",
       "    </tr>\n",
       "  </tbody>\n",
       "</table>\n",
       "<p>54000 rows × 4 columns</p>\n",
       "</div>"
      ],
      "text/plain": [
       "          id                                         movie_name  \\\n",
       "0      44978                                           Super Me   \n",
       "1      50185                                     Entity Project   \n",
       "2      34131  Behavioral Family Therapy for Serious Psychiat...   \n",
       "3      78522                                      Blood Glacier   \n",
       "4       2206                                      Apat na anino   \n",
       "...      ...                                                ...   \n",
       "53995  80325          Untitled Monkeyshine/Ugly Brother Project   \n",
       "53996  84712                                  The Great Swindle   \n",
       "53997  69801                              When Men Get Pregnant   \n",
       "53998   7678                             Suttu Pidikka Utharavu   \n",
       "53999  33970                                    Margo the Mouse   \n",
       "\n",
       "                                                synopsis     genre  \n",
       "0      A young scriptwriter starts bringing valuable ...   fantasy  \n",
       "1      A director and her friends renting a haunted h...    horror  \n",
       "2      This is an educational video for families and ...    family  \n",
       "3      Scientists working in the Austrian Alps discov...     scifi  \n",
       "4      Buy Day - Four Men Widely - Apart in Life - By...    action  \n",
       "...                                                  ...       ...  \n",
       "53995  Two loser pest control buddies find themselves...     scifi  \n",
       "53996  A seductive woman gets involved in relationshi...  thriller  \n",
       "53997  Duyen, a wedding dress staff, who decides to c...   romance  \n",
       "53998  The people of a crowded colony in Coimbatore c...    action  \n",
       "53999  Margo is a little mouse that lives quietly in ...    family  \n",
       "\n",
       "[54000 rows x 4 columns]"
      ]
     },
     "execution_count": 3,
     "metadata": {},
     "output_type": "execute_result"
    }
   ],
   "source": [
    "df=pd.read_csv('train.csv',encoding='ISO_8859-1')\n",
    "df"
   ]
  },
  {
   "cell_type": "code",
   "execution_count": 4,
   "id": "afd5cd70",
   "metadata": {},
   "outputs": [
    {
     "data": {
      "text/plain": [
       "(54000, 4)"
      ]
     },
     "execution_count": 4,
     "metadata": {},
     "output_type": "execute_result"
    }
   ],
   "source": [
    "df.shape"
   ]
  },
  {
   "cell_type": "code",
   "execution_count": 5,
   "id": "e4235f0b",
   "metadata": {},
   "outputs": [
    {
     "data": {
      "text/plain": [
       "(54000, 4)"
      ]
     },
     "execution_count": 5,
     "metadata": {},
     "output_type": "execute_result"
    }
   ],
   "source": [
    "df.shape"
   ]
  },
  {
   "cell_type": "code",
   "execution_count": 6,
   "id": "8a975bf1",
   "metadata": {},
   "outputs": [
    {
     "data": {
      "text/plain": [
       "Index(['id', 'movie_name', 'synopsis', 'genre'], dtype='object')"
      ]
     },
     "execution_count": 6,
     "metadata": {},
     "output_type": "execute_result"
    }
   ],
   "source": [
    "df.columns"
   ]
  },
  {
   "cell_type": "code",
   "execution_count": 7,
   "id": "24bce955",
   "metadata": {},
   "outputs": [
    {
     "data": {
      "text/plain": [
       "id             int64\n",
       "movie_name    object\n",
       "synopsis      object\n",
       "genre         object\n",
       "dtype: object"
      ]
     },
     "execution_count": 7,
     "metadata": {},
     "output_type": "execute_result"
    }
   ],
   "source": [
    "df.dtypes"
   ]
  },
  {
   "cell_type": "code",
   "execution_count": 8,
   "id": "23176d08",
   "metadata": {},
   "outputs": [
    {
     "data": {
      "text/html": [
       "<div>\n",
       "<style scoped>\n",
       "    .dataframe tbody tr th:only-of-type {\n",
       "        vertical-align: middle;\n",
       "    }\n",
       "\n",
       "    .dataframe tbody tr th {\n",
       "        vertical-align: top;\n",
       "    }\n",
       "\n",
       "    .dataframe thead th {\n",
       "        text-align: right;\n",
       "    }\n",
       "</style>\n",
       "<table border=\"1\" class=\"dataframe\">\n",
       "  <thead>\n",
       "    <tr style=\"text-align: right;\">\n",
       "      <th></th>\n",
       "      <th>id</th>\n",
       "      <th>movie_name</th>\n",
       "      <th>synopsis</th>\n",
       "      <th>genre</th>\n",
       "    </tr>\n",
       "  </thead>\n",
       "  <tbody>\n",
       "    <tr>\n",
       "      <th>0</th>\n",
       "      <td>44978</td>\n",
       "      <td>Super Me</td>\n",
       "      <td>A young scriptwriter starts bringing valuable ...</td>\n",
       "      <td>fantasy</td>\n",
       "    </tr>\n",
       "    <tr>\n",
       "      <th>1</th>\n",
       "      <td>50185</td>\n",
       "      <td>Entity Project</td>\n",
       "      <td>A director and her friends renting a haunted h...</td>\n",
       "      <td>horror</td>\n",
       "    </tr>\n",
       "    <tr>\n",
       "      <th>2</th>\n",
       "      <td>34131</td>\n",
       "      <td>Behavioral Family Therapy for Serious Psychiat...</td>\n",
       "      <td>This is an educational video for families and ...</td>\n",
       "      <td>family</td>\n",
       "    </tr>\n",
       "    <tr>\n",
       "      <th>3</th>\n",
       "      <td>78522</td>\n",
       "      <td>Blood Glacier</td>\n",
       "      <td>Scientists working in the Austrian Alps discov...</td>\n",
       "      <td>scifi</td>\n",
       "    </tr>\n",
       "    <tr>\n",
       "      <th>4</th>\n",
       "      <td>2206</td>\n",
       "      <td>Apat na anino</td>\n",
       "      <td>Buy Day - Four Men Widely - Apart in Life - By...</td>\n",
       "      <td>action</td>\n",
       "    </tr>\n",
       "  </tbody>\n",
       "</table>\n",
       "</div>"
      ],
      "text/plain": [
       "      id                                         movie_name  \\\n",
       "0  44978                                           Super Me   \n",
       "1  50185                                     Entity Project   \n",
       "2  34131  Behavioral Family Therapy for Serious Psychiat...   \n",
       "3  78522                                      Blood Glacier   \n",
       "4   2206                                      Apat na anino   \n",
       "\n",
       "                                            synopsis    genre  \n",
       "0  A young scriptwriter starts bringing valuable ...  fantasy  \n",
       "1  A director and her friends renting a haunted h...   horror  \n",
       "2  This is an educational video for families and ...   family  \n",
       "3  Scientists working in the Austrian Alps discov...    scifi  \n",
       "4  Buy Day - Four Men Widely - Apart in Life - By...   action  "
      ]
     },
     "execution_count": 8,
     "metadata": {},
     "output_type": "execute_result"
    }
   ],
   "source": [
    "df.head()"
   ]
  },
  {
   "cell_type": "code",
   "execution_count": 9,
   "id": "5c9d06bb",
   "metadata": {},
   "outputs": [
    {
     "data": {
      "text/html": [
       "<div>\n",
       "<style scoped>\n",
       "    .dataframe tbody tr th:only-of-type {\n",
       "        vertical-align: middle;\n",
       "    }\n",
       "\n",
       "    .dataframe tbody tr th {\n",
       "        vertical-align: top;\n",
       "    }\n",
       "\n",
       "    .dataframe thead th {\n",
       "        text-align: right;\n",
       "    }\n",
       "</style>\n",
       "<table border=\"1\" class=\"dataframe\">\n",
       "  <thead>\n",
       "    <tr style=\"text-align: right;\">\n",
       "      <th></th>\n",
       "      <th>id</th>\n",
       "      <th>movie_name</th>\n",
       "      <th>synopsis</th>\n",
       "      <th>genre</th>\n",
       "    </tr>\n",
       "  </thead>\n",
       "  <tbody>\n",
       "    <tr>\n",
       "      <th>53995</th>\n",
       "      <td>80325</td>\n",
       "      <td>Untitled Monkeyshine/Ugly Brother Project</td>\n",
       "      <td>Two loser pest control buddies find themselves...</td>\n",
       "      <td>scifi</td>\n",
       "    </tr>\n",
       "    <tr>\n",
       "      <th>53996</th>\n",
       "      <td>84712</td>\n",
       "      <td>The Great Swindle</td>\n",
       "      <td>A seductive woman gets involved in relationshi...</td>\n",
       "      <td>thriller</td>\n",
       "    </tr>\n",
       "    <tr>\n",
       "      <th>53997</th>\n",
       "      <td>69801</td>\n",
       "      <td>When Men Get Pregnant</td>\n",
       "      <td>Duyen, a wedding dress staff, who decides to c...</td>\n",
       "      <td>romance</td>\n",
       "    </tr>\n",
       "    <tr>\n",
       "      <th>53998</th>\n",
       "      <td>7678</td>\n",
       "      <td>Suttu Pidikka Utharavu</td>\n",
       "      <td>The people of a crowded colony in Coimbatore c...</td>\n",
       "      <td>action</td>\n",
       "    </tr>\n",
       "    <tr>\n",
       "      <th>53999</th>\n",
       "      <td>33970</td>\n",
       "      <td>Margo the Mouse</td>\n",
       "      <td>Margo is a little mouse that lives quietly in ...</td>\n",
       "      <td>family</td>\n",
       "    </tr>\n",
       "  </tbody>\n",
       "</table>\n",
       "</div>"
      ],
      "text/plain": [
       "          id                                 movie_name  \\\n",
       "53995  80325  Untitled Monkeyshine/Ugly Brother Project   \n",
       "53996  84712                          The Great Swindle   \n",
       "53997  69801                      When Men Get Pregnant   \n",
       "53998   7678                     Suttu Pidikka Utharavu   \n",
       "53999  33970                            Margo the Mouse   \n",
       "\n",
       "                                                synopsis     genre  \n",
       "53995  Two loser pest control buddies find themselves...     scifi  \n",
       "53996  A seductive woman gets involved in relationshi...  thriller  \n",
       "53997  Duyen, a wedding dress staff, who decides to c...   romance  \n",
       "53998  The people of a crowded colony in Coimbatore c...    action  \n",
       "53999  Margo is a little mouse that lives quietly in ...    family  "
      ]
     },
     "execution_count": 9,
     "metadata": {},
     "output_type": "execute_result"
    }
   ],
   "source": [
    "df.tail()"
   ]
  },
  {
   "cell_type": "code",
   "execution_count": 10,
   "id": "adb0b30b",
   "metadata": {},
   "outputs": [
    {
     "data": {
      "text/plain": [
       "id            0\n",
       "movie_name    0\n",
       "synopsis      0\n",
       "genre         0\n",
       "dtype: int64"
      ]
     },
     "execution_count": 10,
     "metadata": {},
     "output_type": "execute_result"
    }
   ],
   "source": [
    "df.isna().sum()"
   ]
  },
  {
   "cell_type": "code",
   "execution_count": 11,
   "id": "68dccb69",
   "metadata": {},
   "outputs": [
    {
     "data": {
      "text/plain": [
       "genre\n",
       "fantasy      5400\n",
       "horror       5400\n",
       "family       5400\n",
       "scifi        5400\n",
       "action       5400\n",
       "crime        5400\n",
       "adventure    5400\n",
       "mystery      5400\n",
       "romance      5400\n",
       "thriller     5400\n",
       "Name: count, dtype: int64"
      ]
     },
     "execution_count": 11,
     "metadata": {},
     "output_type": "execute_result"
    }
   ],
   "source": [
    "df['genre'].value_counts()"
   ]
  },
  {
   "cell_type": "code",
   "execution_count": 12,
   "id": "be95a447",
   "metadata": {},
   "outputs": [
    {
     "data": {
      "text/plain": [
       "<Axes: xlabel='count', ylabel='genre'>"
      ]
     },
     "execution_count": 12,
     "metadata": {},
     "output_type": "execute_result"
    },
    {
     "data": {
      "image/png": "[encoded data removed]",
      "text/plain": [
       "<Figure size 640x480 with 1 Axes>"
      ]
     },
     "metadata": {},
     "output_type": "display_data"
    }
   ],
   "source": [
    "sns.countplot(df['genre'])"
   ]
  },
  {
   "cell_type": "code",
   "execution_count": 13,
   "id": "c2db70ba",
   "metadata": {},
   "outputs": [],
   "source": [
    "df.drop(['id','movie_name'],axis=1,inplace=True)"
   ]
  },
  {
   "cell_type": "code",
   "execution_count": 14,
   "id": "6bb292e2",
   "metadata": {},
   "outputs": [],
   "source": [
    "\n",
    "df['genre']=df['genre'].map({'fantasy':0,'horror': 1, 'family':2,\n",
    "                             'scifi': 3,'action': 4,'crime':5,\n",
    "                             'adventure':6,'mystery':7,'romance': 8,\n",
    "                             'thriller': 9})"
   ]
  },
  {
   "cell_type": "code",
   "execution_count": 15,
   "id": "af387dcf",
   "metadata": {},
   "outputs": [
    {
     "data": {
      "text/html": [
       "<div>\n",
       "<style scoped>\n",
       "    .dataframe tbody tr th:only-of-type {\n",
       "        vertical-align: middle;\n",
       "    }\n",
       "\n",
       "    .dataframe tbody tr th {\n",
       "        vertical-align: top;\n",
       "    }\n",
       "\n",
       "    .dataframe thead th {\n",
       "        text-align: right;\n",
       "    }\n",
       "</style>\n",
       "<table border=\"1\" class=\"dataframe\">\n",
       "  <thead>\n",
       "    <tr style=\"text-align: right;\">\n",
       "      <th></th>\n",
       "      <th>synopsis</th>\n",
       "      <th>genre</th>\n",
       "    </tr>\n",
       "  </thead>\n",
       "  <tbody>\n",
       "    <tr>\n",
       "      <th>0</th>\n",
       "      <td>A young scriptwriter starts bringing valuable ...</td>\n",
       "      <td>0</td>\n",
       "    </tr>\n",
       "    <tr>\n",
       "      <th>1</th>\n",
       "      <td>A director and her friends renting a haunted h...</td>\n",
       "      <td>1</td>\n",
       "    </tr>\n",
       "    <tr>\n",
       "      <th>2</th>\n",
       "      <td>This is an educational video for families and ...</td>\n",
       "      <td>2</td>\n",
       "    </tr>\n",
       "    <tr>\n",
       "      <th>3</th>\n",
       "      <td>Scientists working in the Austrian Alps discov...</td>\n",
       "      <td>3</td>\n",
       "    </tr>\n",
       "    <tr>\n",
       "      <th>4</th>\n",
       "      <td>Buy Day - Four Men Widely - Apart in Life - By...</td>\n",
       "      <td>4</td>\n",
       "    </tr>\n",
       "    <tr>\n",
       "      <th>...</th>\n",
       "      <td>...</td>\n",
       "      <td>...</td>\n",
       "    </tr>\n",
       "    <tr>\n",
       "      <th>53995</th>\n",
       "      <td>Two loser pest control buddies find themselves...</td>\n",
       "      <td>3</td>\n",
       "    </tr>\n",
       "    <tr>\n",
       "      <th>53996</th>\n",
       "      <td>A seductive woman gets involved in relationshi...</td>\n",
       "      <td>9</td>\n",
       "    </tr>\n",
       "    <tr>\n",
       "      <th>53997</th>\n",
       "      <td>Duyen, a wedding dress staff, who decides to c...</td>\n",
       "      <td>8</td>\n",
       "    </tr>\n",
       "    <tr>\n",
       "      <th>53998</th>\n",
       "      <td>The people of a crowded colony in Coimbatore c...</td>\n",
       "      <td>4</td>\n",
       "    </tr>\n",
       "    <tr>\n",
       "      <th>53999</th>\n",
       "      <td>Margo is a little mouse that lives quietly in ...</td>\n",
       "      <td>2</td>\n",
       "    </tr>\n",
       "  </tbody>\n",
       "</table>\n",
       "<p>54000 rows × 2 columns</p>\n",
       "</div>"
      ],
      "text/plain": [
       "                                                synopsis  genre\n",
       "0      A young scriptwriter starts bringing valuable ...      0\n",
       "1      A director and her friends renting a haunted h...      1\n",
       "2      This is an educational video for families and ...      2\n",
       "3      Scientists working in the Austrian Alps discov...      3\n",
       "4      Buy Day - Four Men Widely - Apart in Life - By...      4\n",
       "...                                                  ...    ...\n",
       "53995  Two loser pest control buddies find themselves...      3\n",
       "53996  A seductive woman gets involved in relationshi...      9\n",
       "53997  Duyen, a wedding dress staff, who decides to c...      8\n",
       "53998  The people of a crowded colony in Coimbatore c...      4\n",
       "53999  Margo is a little mouse that lives quietly in ...      2\n",
       "\n",
       "[54000 rows x 2 columns]"
      ]
     },
     "execution_count": 15,
     "metadata": {},
     "output_type": "execute_result"
    }
   ],
   "source": [
    "df"
   ]
  },
  {
   "cell_type": "code",
   "execution_count": 16,
   "id": "101be93d",
   "metadata": {},
   "outputs": [
    {
     "data": {
      "text/plain": [
       "0        A young scriptwriter starts bringing valuable ...\n",
       "1        A director and her friends renting a haunted h...\n",
       "2        This is an educational video for families and ...\n",
       "3        Scientists working in the Austrian Alps discov...\n",
       "4        Buy Day - Four Men Widely - Apart in Life - By...\n",
       "                               ...                        \n",
       "53995    Two loser pest control buddies find themselves...\n",
       "53996    A seductive woman gets involved in relationshi...\n",
       "53997    Duyen, a wedding dress staff, who decides to c...\n",
       "53998    The people of a crowded colony in Coimbatore c...\n",
       "53999    Margo is a little mouse that lives quietly in ...\n",
       "Name: synopsis, Length: 54000, dtype: object"
      ]
     },
     "execution_count": 16,
     "metadata": {},
     "output_type": "execute_result"
    }
   ],
   "source": [
    "synopsis=df.synopsis\n",
    "synopsis"
   ]
  },
  {
   "cell_type": "code",
   "execution_count": 17,
   "id": "f600c92c",
   "metadata": {},
   "outputs": [
    {
     "data": {
      "text/plain": [
       "0        A young scriptwriter starts bringing valuable ...\n",
       "1        A director and her friends renting a haunted h...\n",
       "2        This is an educational video for families and ...\n",
       "3        Scientists working in the Austrian Alps discov...\n",
       "4        Buy Day - Four Men Widely - Apart in Life - By...\n",
       "                               ...                        \n",
       "53995    Two loser pest control buddies find themselves...\n",
       "53996    A seductive woman gets involved in relationshi...\n",
       "53997    Duyen, a wedding dress staff, who decides to c...\n",
       "53998    The people of a crowded colony in Coimbatore c...\n",
       "53999    Margo is a little mouse that lives quietly in ...\n",
       "Name: synopsis, Length: 54000, dtype: object"
      ]
     },
     "execution_count": 17,
     "metadata": {},
     "output_type": "execute_result"
    }
   ],
   "source": [
    "#white space\n",
    "synopsis=synopsis.str.replace(r'\\s+',' ',regex=True).str.strip()\n",
    "synopsis"
   ]
  },
  {
   "cell_type": "code",
   "execution_count": 18,
   "id": "cb47c0d5",
   "metadata": {},
   "outputs": [
    {
     "data": {
      "text/plain": [
       "0        A young scriptwriter starts bringing valuable ...\n",
       "1        A director and her friends renting a haunted h...\n",
       "2        This is an educational video for families and ...\n",
       "3        Scientists working in the Austrian Alps discov...\n",
       "4        Buy Day - Four Men Widely - Apart in Life - By...\n",
       "                               ...                        \n",
       "53995    Two loser pest control buddies find themselves...\n",
       "53996    A seductive woman gets involved in relationshi...\n",
       "53997    Duyen , a wedding dress staff , who decides to...\n",
       "53998    The people of a crowded colony in Coimbatore c...\n",
       "53999    Margo is a little mouse that lives quietly in ...\n",
       "Name: synopsis, Length: 54000, dtype: object"
      ]
     },
     "execution_count": 18,
     "metadata": {},
     "output_type": "execute_result"
    }
   ],
   "source": [
    "#tokenisation\n",
    "from nltk.tokenize import TweetTokenizer\n",
    "tk=TweetTokenizer()\n",
    "synopsis=synopsis.apply(lambda x:tk.tokenize(x)).apply(lambda x:' '.join(x))\n",
    "synopsis"
   ]
  },
  {
   "cell_type": "code",
   "execution_count": 19,
   "id": "90eaed20",
   "metadata": {},
   "outputs": [
    {
     "data": {
      "text/plain": [
       "0        A young scriptwriter starts bringing valuable ...\n",
       "1        A director and her friends renting a haunted h...\n",
       "2        This is an educational video for families and ...\n",
       "3        Scientists working in the Austrian Alps discov...\n",
       "4        Buy Day   Four Men Widely   Apart in Life   By...\n",
       "                               ...                        \n",
       "53995    Two loser pest control buddies find themselves...\n",
       "53996    A seductive woman gets involved in relationshi...\n",
       "53997    Duyen   a wedding dress staff   who decides to...\n",
       "53998    The people of a crowded colony in Coimbatore c...\n",
       "53999    Margo is a little mouse that lives quietly in ...\n",
       "Name: synopsis, Length: 54000, dtype: object"
      ]
     },
     "execution_count": 19,
     "metadata": {},
     "output_type": "execute_result"
    }
   ],
   "source": [
    "#removing special characters\n",
    "synopsis=synopsis.str.replace('[^A-Za-z0-9]',' ',regex=True)\n",
    "synopsis"
   ]
  },
  {
   "cell_type": "code",
   "execution_count": 20,
   "id": "cf9e8df0",
   "metadata": {},
   "outputs": [
    {
     "data": {
      "text/plain": [
       "0        a young scriptwrit start bring valuabl object ...\n",
       "1        a director and her friend rent a haunt hous to...\n",
       "2        this is an educ video for famili and famili th...\n",
       "3        scientist work in the austrian alp discov that...\n",
       "4        buy day four men wide apart in life by night s...\n",
       "                               ...                        \n",
       "53995    two loser pest control buddi find themselv bat...\n",
       "53996    a seduct woman get involv in relationship with...\n",
       "53997    duyen a wed dress staff who decid to continu a...\n",
       "53998    the peopl of a crowd coloni in coimbator citi ...\n",
       "53999    margo is a littl mous that live quiet in a tre...\n",
       "Name: synopsis, Length: 54000, dtype: object"
      ]
     },
     "execution_count": 20,
     "metadata": {},
     "output_type": "execute_result"
    }
   ],
   "source": [
    "#stemming\n",
    "from nltk.stem import SnowballStemmer\n",
    "st=SnowballStemmer('english')\n",
    "synopsis=synopsis.apply(lambda x:[st.stem(i.lower()) for i in tk.tokenize(x)]).apply(lambda x:' '.join(x))\n",
    "synopsis"
   ]
  },
  {
   "cell_type": "code",
   "execution_count": 21,
   "id": "f1b960c8",
   "metadata": {},
   "outputs": [
    {
     "data": {
      "text/plain": [
       "0        young scriptwrit start bring valuabl object ba...\n",
       "1        director friend rent haunt hous captur paranor...\n",
       "2        educ video famili famili therapist describ beh...\n",
       "3        scientist work austrian alp discov glacier lea...\n",
       "4        buy day four men wide apart life night shadow ...\n",
       "                               ...                        \n",
       "53995    two loser pest control buddi find themselv bat...\n",
       "53996    seduct woman get involv relationship sever peo...\n",
       "53997    duyen wed dress staff decid continu pregnanc d...\n",
       "53998    peopl crowd coloni coimbator citi go hard time...\n",
       "53999    margo littl mous live quiet tree hous life tre...\n",
       "Name: synopsis, Length: 54000, dtype: object"
      ]
     },
     "execution_count": 21,
     "metadata": {},
     "output_type": "execute_result"
    }
   ],
   "source": [
    "#stop words\n",
    "from nltk.corpus import stopwords\n",
    "sp=stopwords.words('english')\n",
    "synopsis=synopsis.apply(lambda x:[i for i in tk.tokenize(x) if i not in sp]).apply(lambda x:' '.join(x))\n",
    "synopsis"
   ]
  },
  {
   "cell_type": "code",
   "execution_count": 22,
   "id": "29c08e70",
   "metadata": {},
   "outputs": [
    {
     "data": {
      "text/plain": [
       "<Compressed Sparse Row sparse matrix of dtype 'float64'\n",
       "\twith 717669 stored elements and shape (54000, 5000)>"
      ]
     },
     "execution_count": 22,
     "metadata": {},
     "output_type": "execute_result"
    }
   ],
   "source": [
    "#vectorisation-convering to nymerical form\n",
    "from sklearn.feature_extraction.text import TfidfVectorizer\n",
    "vd=TfidfVectorizer(max_features=5000)\n",
    "data=vd.fit_transform(synopsis)\n",
    "data"
   ]
  },
  {
   "cell_type": "code",
   "execution_count": 23,
   "id": "c1e25cd1",
   "metadata": {},
   "outputs": [
    {
     "data": {
      "text/plain": [
       "array([0, 1, 2, ..., 8, 4, 2], shape=(54000,))"
      ]
     },
     "execution_count": 23,
     "metadata": {},
     "output_type": "execute_result"
    }
   ],
   "source": [
    "y=df['genre'].values\n",
    "y"
   ]
  },
  {
   "cell_type": "code",
   "execution_count": 24,
   "id": "27b81635",
   "metadata": {},
   "outputs": [],
   "source": [
    "#train test split\n",
    "from sklearn.model_selection import train_test_split\n",
    "x_train,x_test,y_train,y_test=train_test_split(data,y,test_size=0.30,random_state=1)"
   ]
  },
  {
   "cell_type": "code",
   "execution_count": 25,
   "id": "3425fc6a",
   "metadata": {},
   "outputs": [],
   "source": [
    "#model creation\n",
    "from sklearn.linear_model import LogisticRegression\n",
    "model = LogisticRegression(max_iter=1000)\n",
    "model.fit(x_train,y_train)\n",
    "y_pred=model.predict(x_test)"
   ]
  },
  {
   "cell_type": "code",
   "execution_count": 26,
   "id": "b942b4ab",
   "metadata": {},
   "outputs": [
    {
     "name": "stdout",
     "output_type": "stream",
     "text": [
      "              precision    recall  f1-score   support\n",
      "\n",
      "           0       0.30      0.29      0.30      1583\n",
      "           1       0.43      0.44      0.44      1638\n",
      "           2       0.39      0.45      0.42      1589\n",
      "           3       0.41      0.47      0.43      1634\n",
      "           4       0.29      0.26      0.27      1596\n",
      "           5       0.34      0.36      0.35      1612\n",
      "           6       0.27      0.23      0.25      1657\n",
      "           7       0.29      0.29      0.29      1607\n",
      "           8       0.47      0.56      0.51      1677\n",
      "           9       0.21      0.15      0.18      1607\n",
      "\n",
      "    accuracy                           0.35     16200\n",
      "   macro avg       0.34      0.35      0.34     16200\n",
      "weighted avg       0.34      0.35      0.34     16200\n",
      "\n"
     ]
    }
   ],
   "source": [
    "from sklearn.metrics import classification_report\n",
    "print(classification_report(y_test,y_pred))"
   ]
  },
  {
   "cell_type": "code",
   "execution_count": 27,
   "id": "f79fe2b4",
   "metadata": {},
   "outputs": [],
   "source": [
    "new_plot = [\"A group of astronauts explore an unknown planet and encounter alien life.\"]\n",
    "X_new = vd.transform(new_plot)\n"
   ]
  },
  {
   "cell_type": "code",
   "execution_count": 28,
   "id": "710e8fed",
   "metadata": {},
   "outputs": [],
   "source": [
    "genre_map={'fantasy':0,'horror': 1, 'family':2,\n",
    "                             'scifi': 3,'action': 4,'crime':5,\n",
    "                             'adventure':6,'mystery':7,'romance': 8,\n",
    "                             'thriller': 9}\n"
   ]
  },
  {
   "cell_type": "code",
   "execution_count": 29,
   "id": "1153ad37",
   "metadata": {},
   "outputs": [],
   "source": [
    "# 🔁 Invert the dictionary for prediction\n",
    "inv_genre_map = {v: k for k, v in genre_map.items()}"
   ]
  },
  {
   "cell_type": "code",
   "execution_count": 30,
   "id": "82069be9",
   "metadata": {},
   "outputs": [
    {
     "name": "stdout",
     "output_type": "stream",
     "text": [
      "scifi: 0.85\n",
      "adventure: 0.05\n",
      "fantasy: 0.03\n"
     ]
    }
   ],
   "source": [
    "if hasattr(model, \"predict_proba\"):\n",
    "    probs = model.predict_proba(X_new)[0]\n",
    "    top3 = probs.argsort()[-3:][::-1]\n",
    "    for i in top3:\n",
    "        print(f\"{inv_genre_map[i]}: {probs[i]:.2f}\")\n"
   ]
  },
  {
   "cell_type": "code",
   "execution_count": 31,
   "id": "407438a6",
   "metadata": {},
   "outputs": [
    {
     "data": {
      "text/plain": [
       "['genre_map.pkl']"
      ]
     },
     "execution_count": 31,
     "metadata": {},
     "output_type": "execute_result"
    }
   ],
   "source": [
    "import joblib\n",
    "\n",
    "# Save your model, vectorizer, and label map\n",
    "joblib.dump(model, 'genre_model.pkl',compress=5)\n",
    "joblib.dump(vd, 'vectorizer.pkl')\n",
    "joblib.dump(genre_map, 'genre_map.pkl')  # {0:'action', 1:'drama', ...}\n"
   ]
  }
 ],
 "metadata": {
  "kernelspec": {
   "display_name": "Python 3",
   "language": "python",
   "name": "python3"
  },
  "language_info": {
   "codemirror_mode": {
    "name": "ipython",
    "version": 3
   },
   "file_extension": ".py",
   "mimetype": "text/x-python",
   "name": "python",
   "nbconvert_exporter": "python",
   "pygments_lexer": "ipython3",
   "version": "3.11.4"
  }
 },
 "nbformat": 4,
 "nbformat_minor": 5
}
